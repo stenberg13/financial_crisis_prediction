{
 "cells": [
  {
   "cell_type": "markdown",
   "id": "4356c8a9-3ed8-4826-9601-14285ac0f480",
   "metadata": {},
   "source": [
    "# Early Warning Models for Financial Crisis using Machine Learning Techniques"
   ]
  },
  {
   "cell_type": "markdown",
   "id": "316e2373-20a2-4eeb-884b-02e352e2b52a",
   "metadata": {},
   "source": [
    "### Yelebe Desta and Seth Tenberg"
   ]
  },
  {
   "cell_type": "markdown",
   "id": "ed7f46ff-1c55-4683-8db8-61b7ef9dd4c5",
   "metadata": {},
   "source": [
    "# Lit Review"
   ]
  },
  {
   "cell_type": "code",
   "execution_count": null,
   "id": "7bb4a0c8-07d7-4b2f-acd8-1ef5db129f16",
   "metadata": {},
   "outputs": [],
   "source": []
  },
  {
   "cell_type": "code",
   "execution_count": null,
   "id": "2dacdc90-1ac6-4ff9-a7b2-da0d21127512",
   "metadata": {},
   "outputs": [],
   "source": []
  },
  {
   "cell_type": "markdown",
   "id": "112adfd8-c17e-4e06-9d34-e4c98c271639",
   "metadata": {},
   "source": [
    "# Cleaning the Data"
   ]
  },
  {
   "cell_type": "code",
   "execution_count": null,
   "id": "e81ffd39-3c35-49f8-9156-18416f7061fe",
   "metadata": {},
   "outputs": [],
   "source": []
  },
  {
   "cell_type": "code",
   "execution_count": null,
   "id": "668af8b8-8964-473a-9231-0a725f5cc598",
   "metadata": {},
   "outputs": [],
   "source": []
  },
  {
   "cell_type": "markdown",
   "id": "f264ef77-c768-49ea-be91-0d071fc59c6f",
   "metadata": {},
   "source": [
    "# Exploring the Data"
   ]
  },
  {
   "cell_type": "code",
   "execution_count": null,
   "id": "8f0d899c-6dc9-4b78-b503-d9c95386580c",
   "metadata": {},
   "outputs": [],
   "source": []
  },
  {
   "cell_type": "code",
   "execution_count": null,
   "id": "171e775b-fb8e-4ddb-8ebb-516e4a377a43",
   "metadata": {},
   "outputs": [],
   "source": []
  },
  {
   "cell_type": "markdown",
   "id": "469a06c3-1172-4316-bdd1-417f5adbd98d",
   "metadata": {},
   "source": [
    "# Computing Baseline Prediction (yield curve) (logistic model)"
   ]
  },
  {
   "cell_type": "code",
   "execution_count": null,
   "id": "a3908efe-f4dd-4379-a020-77fde8c9121f",
   "metadata": {},
   "outputs": [],
   "source": []
  },
  {
   "cell_type": "code",
   "execution_count": null,
   "id": "e10e4ec2-c79e-4f83-87bd-21e792f5d98b",
   "metadata": {},
   "outputs": [],
   "source": []
  },
  {
   "cell_type": "markdown",
   "id": "7c40a98c-b368-4b3f-859b-a5b30a8a202b",
   "metadata": {},
   "source": [
    "# ML technique one "
   ]
  },
  {
   "cell_type": "code",
   "execution_count": null,
   "id": "f087a796-bf59-488b-8012-3ca994280d7a",
   "metadata": {},
   "outputs": [],
   "source": []
  },
  {
   "cell_type": "code",
   "execution_count": null,
   "id": "6be79c72-e09f-4591-85af-162916c6e9ad",
   "metadata": {},
   "outputs": [],
   "source": []
  },
  {
   "cell_type": "markdown",
   "id": "1e2b45c4-1c2a-444b-bf41-0e8207529510",
   "metadata": {},
   "source": [
    "# ML technique two etc"
   ]
  },
  {
   "cell_type": "code",
   "execution_count": null,
   "id": "644f8aa3-6a96-4a25-8825-e2f6c504f13f",
   "metadata": {},
   "outputs": [],
   "source": []
  },
  {
   "cell_type": "code",
   "execution_count": null,
   "id": "f506b22c-641b-4664-8ad8-e89100091497",
   "metadata": {},
   "outputs": [],
   "source": []
  },
  {
   "cell_type": "markdown",
   "id": "24f38f4b-bf77-4ee7-9329-4584549b8718",
   "metadata": {},
   "source": [
    "# showcase prediction capabilities and compare"
   ]
  },
  {
   "cell_type": "code",
   "execution_count": null,
   "id": "18b03863-819d-4de6-8b2b-f20348fbb530",
   "metadata": {},
   "outputs": [],
   "source": []
  }
 ],
 "metadata": {
  "kernelspec": {
   "display_name": "Python 3 (ipykernel)",
   "language": "python",
   "name": "python3"
  },
  "language_info": {
   "codemirror_mode": {
    "name": "ipython",
    "version": 3
   },
   "file_extension": ".py",
   "mimetype": "text/x-python",
   "name": "python",
   "nbconvert_exporter": "python",
   "pygments_lexer": "ipython3",
   "version": "3.11.5"
  }
 },
 "nbformat": 4,
 "nbformat_minor": 5
}
