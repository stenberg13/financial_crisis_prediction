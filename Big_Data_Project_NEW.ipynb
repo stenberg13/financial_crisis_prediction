{
 "cells": [
  {
   "cell_type": "markdown",
   "id": "4356c8a9-3ed8-4826-9601-14285ac0f480",
   "metadata": {},
   "source": [
    "# Early Warning Models for Financial Crisis using Machine Learning Techniques"
   ]
  },
  {
   "cell_type": "markdown",
   "id": "316e2373-20a2-4eeb-884b-02e352e2b52a",
   "metadata": {},
   "source": [
    "### Yelebe Desta and Seth Tenberg"
   ]
  },
  {
   "cell_type": "markdown",
   "id": "ed7f46ff-1c55-4683-8db8-61b7ef9dd4c5",
   "metadata": {},
   "source": [
    "# Lit Review"
   ]
  },
  {
   "cell_type": "code",
   "execution_count": null,
   "id": "7bb4a0c8-07d7-4b2f-acd8-1ef5db129f16",
   "metadata": {},
   "outputs": [],
   "source": []
  },
  {
   "cell_type": "code",
   "execution_count": null,
   "id": "2dacdc90-1ac6-4ff9-a7b2-da0d21127512",
   "metadata": {},
   "outputs": [],
   "source": []
  },
  {
   "cell_type": "markdown",
   "id": "112adfd8-c17e-4e06-9d34-e4c98c271639",
   "metadata": {},
   "source": [
    "# Cleaning the Data"
   ]
  },
  {
   "cell_type": "code",
   "execution_count": 13,
   "id": "e81ffd39-3c35-49f8-9156-18416f7061fe",
   "metadata": {},
   "outputs": [],
   "source": [
    "import numpy as np\n",
    "import pandas as pd\n",
    "import seaborn as sns\n",
    "import matplotlib.pyplot as plt\n",
    "from sklearn.preprocessing import StandardScaler\n",
    "import statsmodels.api as sm\n"
   ]
  },
  {
   "cell_type": "code",
   "execution_count": 2,
   "id": "668af8b8-8964-473a-9231-0a725f5cc598",
   "metadata": {},
   "outputs": [],
   "source": [
    "data = pd.read_excel(\"/Users/yelebedesta/Downloads/JSTdatasetR6.xlsx\")"
   ]
  },
  {
   "cell_type": "markdown",
   "id": "f264ef77-c768-49ea-be91-0d071fc59c6f",
   "metadata": {},
   "source": [
    "# Exploring the Data"
   ]
  },
  {
   "cell_type": "code",
   "execution_count": 3,
   "id": "8f0d899c-6dc9-4b78-b503-d9c95386580c",
   "metadata": {},
   "outputs": [
    {
     "data": {
      "text/html": [
       "<div>\n",
       "<style scoped>\n",
       "    .dataframe tbody tr th:only-of-type {\n",
       "        vertical-align: middle;\n",
       "    }\n",
       "\n",
       "    .dataframe tbody tr th {\n",
       "        vertical-align: top;\n",
       "    }\n",
       "\n",
       "    .dataframe thead th {\n",
       "        text-align: right;\n",
       "    }\n",
       "</style>\n",
       "<table border=\"1\" class=\"dataframe\">\n",
       "  <thead>\n",
       "    <tr style=\"text-align: right;\">\n",
       "      <th></th>\n",
       "      <th>year</th>\n",
       "      <th>ifs</th>\n",
       "      <th>pop</th>\n",
       "      <th>rgdpmad</th>\n",
       "      <th>rgdpbarro</th>\n",
       "      <th>rconsbarro</th>\n",
       "      <th>gdp</th>\n",
       "      <th>iy</th>\n",
       "      <th>cpi</th>\n",
       "      <th>ca</th>\n",
       "      <th>...</th>\n",
       "      <th>eq_capgain</th>\n",
       "      <th>eq_dp</th>\n",
       "      <th>eq_capgain_interp</th>\n",
       "      <th>eq_tr_interp</th>\n",
       "      <th>eq_dp_interp</th>\n",
       "      <th>bond_rate</th>\n",
       "      <th>eq_div_rtn</th>\n",
       "      <th>capital_tr</th>\n",
       "      <th>risky_tr</th>\n",
       "      <th>safe_tr</th>\n",
       "    </tr>\n",
       "  </thead>\n",
       "  <tbody>\n",
       "    <tr>\n",
       "      <th>count</th>\n",
       "      <td>2718.00000</td>\n",
       "      <td>2718.000000</td>\n",
       "      <td>2667.000000</td>\n",
       "      <td>2666.000000</td>\n",
       "      <td>2664.000000</td>\n",
       "      <td>2561.000000</td>\n",
       "      <td>2.641000e+03</td>\n",
       "      <td>2425.000000</td>\n",
       "      <td>2.666000e+03</td>\n",
       "      <td>2.489000e+03</td>\n",
       "      <td>...</td>\n",
       "      <td>2.170000e+03</td>\n",
       "      <td>2169.000000</td>\n",
       "      <td>7.0</td>\n",
       "      <td>7.0</td>\n",
       "      <td>6.0</td>\n",
       "      <td>2381.000000</td>\n",
       "      <td>2163.000000</td>\n",
       "      <td>1830.000000</td>\n",
       "      <td>1854.000000</td>\n",
       "      <td>2247.000000</td>\n",
       "    </tr>\n",
       "    <tr>\n",
       "      <th>mean</th>\n",
       "      <td>1945.00000</td>\n",
       "      <td>148.333333</td>\n",
       "      <td>31439.397574</td>\n",
       "      <td>9155.064763</td>\n",
       "      <td>39.793748</td>\n",
       "      <td>42.133609</td>\n",
       "      <td>2.454826e+06</td>\n",
       "      <td>0.188838</td>\n",
       "      <td>4.191118e+01</td>\n",
       "      <td>-4.572271e+04</td>\n",
       "      <td>...</td>\n",
       "      <td>1.167935e+06</td>\n",
       "      <td>0.040949</td>\n",
       "      <td>1.0</td>\n",
       "      <td>1.0</td>\n",
       "      <td>1.0</td>\n",
       "      <td>0.054346</td>\n",
       "      <td>0.042763</td>\n",
       "      <td>0.099308</td>\n",
       "      <td>0.111523</td>\n",
       "      <td>0.051634</td>\n",
       "    </tr>\n",
       "    <tr>\n",
       "      <th>std</th>\n",
       "      <td>43.59701</td>\n",
       "      <td>24.165940</td>\n",
       "      <td>45898.993728</td>\n",
       "      <td>7976.190143</td>\n",
       "      <td>33.884462</td>\n",
       "      <td>32.274402</td>\n",
       "      <td>1.615548e+07</td>\n",
       "      <td>0.064621</td>\n",
       "      <td>5.689962e+01</td>\n",
       "      <td>7.670287e+05</td>\n",
       "      <td>...</td>\n",
       "      <td>5.440622e+07</td>\n",
       "      <td>0.017111</td>\n",
       "      <td>0.0</td>\n",
       "      <td>0.0</td>\n",
       "      <td>0.0</td>\n",
       "      <td>0.031442</td>\n",
       "      <td>0.017694</td>\n",
       "      <td>0.090360</td>\n",
       "      <td>0.110373</td>\n",
       "      <td>0.048357</td>\n",
       "    </tr>\n",
       "    <tr>\n",
       "      <th>min</th>\n",
       "      <td>1870.00000</td>\n",
       "      <td>111.000000</td>\n",
       "      <td>1675.000000</td>\n",
       "      <td>737.375497</td>\n",
       "      <td>3.263085</td>\n",
       "      <td>4.074400</td>\n",
       "      <td>1.250757e-11</td>\n",
       "      <td>0.017287</td>\n",
       "      <td>1.150362e-11</td>\n",
       "      <td>-1.687900e+07</td>\n",
       "      <td>...</td>\n",
       "      <td>-8.842261e-01</td>\n",
       "      <td>0.000000</td>\n",
       "      <td>1.0</td>\n",
       "      <td>1.0</td>\n",
       "      <td>1.0</td>\n",
       "      <td>-0.035316</td>\n",
       "      <td>0.000000</td>\n",
       "      <td>-0.232140</td>\n",
       "      <td>-0.238515</td>\n",
       "      <td>-0.152371</td>\n",
       "    </tr>\n",
       "    <tr>\n",
       "      <th>25%</th>\n",
       "      <td>1907.00000</td>\n",
       "      <td>132.000000</td>\n",
       "      <td>4866.650000</td>\n",
       "      <td>2873.047663</td>\n",
       "      <td>12.694448</td>\n",
       "      <td>15.650000</td>\n",
       "      <td>5.428200e+01</td>\n",
       "      <td>0.140980</td>\n",
       "      <td>2.526395e+00</td>\n",
       "      <td>-6.345947e+01</td>\n",
       "      <td>...</td>\n",
       "      <td>-5.496224e-02</td>\n",
       "      <td>0.030100</td>\n",
       "      <td>1.0</td>\n",
       "      <td>1.0</td>\n",
       "      <td>1.0</td>\n",
       "      <td>0.036000</td>\n",
       "      <td>0.032112</td>\n",
       "      <td>0.047950</td>\n",
       "      <td>0.051188</td>\n",
       "      <td>0.024857</td>\n",
       "    </tr>\n",
       "    <tr>\n",
       "      <th>50%</th>\n",
       "      <td>1945.00000</td>\n",
       "      <td>143.000000</td>\n",
       "      <td>10113.530000</td>\n",
       "      <td>5477.011227</td>\n",
       "      <td>23.056114</td>\n",
       "      <td>27.846700</td>\n",
       "      <td>1.810926e+03</td>\n",
       "      <td>0.194356</td>\n",
       "      <td>1.050679e+01</td>\n",
       "      <td>-3.300000e-02</td>\n",
       "      <td>...</td>\n",
       "      <td>4.175594e-02</td>\n",
       "      <td>0.040665</td>\n",
       "      <td>1.0</td>\n",
       "      <td>1.0</td>\n",
       "      <td>1.0</td>\n",
       "      <td>0.046100</td>\n",
       "      <td>0.042530</td>\n",
       "      <td>0.090982</td>\n",
       "      <td>0.102568</td>\n",
       "      <td>0.043005</td>\n",
       "    </tr>\n",
       "    <tr>\n",
       "      <th>75%</th>\n",
       "      <td>1983.00000</td>\n",
       "      <td>172.000000</td>\n",
       "      <td>45077.000000</td>\n",
       "      <td>14619.435708</td>\n",
       "      <td>65.770534</td>\n",
       "      <td>68.720000</td>\n",
       "      <td>5.038345e+04</td>\n",
       "      <td>0.230288</td>\n",
       "      <td>7.617557e+01</td>\n",
       "      <td>1.788000e+01</td>\n",
       "      <td>...</td>\n",
       "      <td>1.568719e-01</td>\n",
       "      <td>0.051569</td>\n",
       "      <td>1.0</td>\n",
       "      <td>1.0</td>\n",
       "      <td>1.0</td>\n",
       "      <td>0.063500</td>\n",
       "      <td>0.053196</td>\n",
       "      <td>0.137372</td>\n",
       "      <td>0.159925</td>\n",
       "      <td>0.067896</td>\n",
       "    </tr>\n",
       "    <tr>\n",
       "      <th>max</th>\n",
       "      <td>2020.00000</td>\n",
       "      <td>193.000000</td>\n",
       "      <td>329239.715278</td>\n",
       "      <td>45887.569802</td>\n",
       "      <td>147.282620</td>\n",
       "      <td>120.431162</td>\n",
       "      <td>2.070466e+08</td>\n",
       "      <td>0.546975</td>\n",
       "      <td>2.268252e+02</td>\n",
       "      <td>5.885998e+06</td>\n",
       "      <td>...</td>\n",
       "      <td>2.534419e+09</td>\n",
       "      <td>0.127113</td>\n",
       "      <td>1.0</td>\n",
       "      <td>1.0</td>\n",
       "      <td>1.0</td>\n",
       "      <td>0.237154</td>\n",
       "      <td>0.138189</td>\n",
       "      <td>1.144161</td>\n",
       "      <td>1.281639</td>\n",
       "      <td>0.408514</td>\n",
       "    </tr>\n",
       "  </tbody>\n",
       "</table>\n",
       "<p>8 rows × 55 columns</p>\n",
       "</div>"
      ],
      "text/plain": [
       "             year          ifs            pop       rgdpmad    rgdpbarro  \\\n",
       "count  2718.00000  2718.000000    2667.000000   2666.000000  2664.000000   \n",
       "mean   1945.00000   148.333333   31439.397574   9155.064763    39.793748   \n",
       "std      43.59701    24.165940   45898.993728   7976.190143    33.884462   \n",
       "min    1870.00000   111.000000    1675.000000    737.375497     3.263085   \n",
       "25%    1907.00000   132.000000    4866.650000   2873.047663    12.694448   \n",
       "50%    1945.00000   143.000000   10113.530000   5477.011227    23.056114   \n",
       "75%    1983.00000   172.000000   45077.000000  14619.435708    65.770534   \n",
       "max    2020.00000   193.000000  329239.715278  45887.569802   147.282620   \n",
       "\n",
       "        rconsbarro           gdp           iy           cpi            ca  \\\n",
       "count  2561.000000  2.641000e+03  2425.000000  2.666000e+03  2.489000e+03   \n",
       "mean     42.133609  2.454826e+06     0.188838  4.191118e+01 -4.572271e+04   \n",
       "std      32.274402  1.615548e+07     0.064621  5.689962e+01  7.670287e+05   \n",
       "min       4.074400  1.250757e-11     0.017287  1.150362e-11 -1.687900e+07   \n",
       "25%      15.650000  5.428200e+01     0.140980  2.526395e+00 -6.345947e+01   \n",
       "50%      27.846700  1.810926e+03     0.194356  1.050679e+01 -3.300000e-02   \n",
       "75%      68.720000  5.038345e+04     0.230288  7.617557e+01  1.788000e+01   \n",
       "max     120.431162  2.070466e+08     0.546975  2.268252e+02  5.885998e+06   \n",
       "\n",
       "       ...    eq_capgain        eq_dp  eq_capgain_interp  eq_tr_interp  \\\n",
       "count  ...  2.170000e+03  2169.000000                7.0           7.0   \n",
       "mean   ...  1.167935e+06     0.040949                1.0           1.0   \n",
       "std    ...  5.440622e+07     0.017111                0.0           0.0   \n",
       "min    ... -8.842261e-01     0.000000                1.0           1.0   \n",
       "25%    ... -5.496224e-02     0.030100                1.0           1.0   \n",
       "50%    ...  4.175594e-02     0.040665                1.0           1.0   \n",
       "75%    ...  1.568719e-01     0.051569                1.0           1.0   \n",
       "max    ...  2.534419e+09     0.127113                1.0           1.0   \n",
       "\n",
       "       eq_dp_interp    bond_rate   eq_div_rtn   capital_tr     risky_tr  \\\n",
       "count           6.0  2381.000000  2163.000000  1830.000000  1854.000000   \n",
       "mean            1.0     0.054346     0.042763     0.099308     0.111523   \n",
       "std             0.0     0.031442     0.017694     0.090360     0.110373   \n",
       "min             1.0    -0.035316     0.000000    -0.232140    -0.238515   \n",
       "25%             1.0     0.036000     0.032112     0.047950     0.051188   \n",
       "50%             1.0     0.046100     0.042530     0.090982     0.102568   \n",
       "75%             1.0     0.063500     0.053196     0.137372     0.159925   \n",
       "max             1.0     0.237154     0.138189     1.144161     1.281639   \n",
       "\n",
       "           safe_tr  \n",
       "count  2247.000000  \n",
       "mean      0.051634  \n",
       "std       0.048357  \n",
       "min      -0.152371  \n",
       "25%       0.024857  \n",
       "50%       0.043005  \n",
       "75%       0.067896  \n",
       "max       0.408514  \n",
       "\n",
       "[8 rows x 55 columns]"
      ]
     },
     "execution_count": 3,
     "metadata": {},
     "output_type": "execute_result"
    }
   ],
   "source": [
    "data.describe()"
   ]
  },
  {
   "cell_type": "markdown",
   "id": "f0f34432-ad23-4c46-b733-7cd305303444",
   "metadata": {},
   "source": [
    "We want to make a early warning indicator model, thus our dependent variable of interest is not when the crisis occurs, but a year or two *before* the crisis occurs. The dataset being used encodes the year that a crisis occurs; we can do a quick fix to create our binary dependent variable."
   ]
  },
  {
   "cell_type": "code",
   "execution_count": 4,
   "id": "e85b03f7-429b-46ce-8a02-86633aff5900",
   "metadata": {},
   "outputs": [],
   "source": [
    "data['indicator'] = ((data['crisisJST'].shift(-1) == 1) | (data['crisisJST'].shift(-2) == 1)).astype(int)\n"
   ]
  },
  {
   "cell_type": "markdown",
   "id": "6b63b4d9-1dba-4b73-bb13-32426312da49",
   "metadata": {},
   "source": [
    "Now we will remove the year of the crisis along with the following four years to remove post crisis bias, which has been shown to affect analysis in previous research."
   ]
  },
  {
   "cell_type": "code",
   "execution_count": 5,
   "id": "a0fcb52f-147f-4c60-af68-581e3d051853",
   "metadata": {},
   "outputs": [],
   "source": [
    "crisis_rows = data[data['crisisJST'] == 1].index.tolist()\n",
    "crisis_rows_incremented1 = [row + 1 for row in crisis_rows]\n",
    "crisis_rows_incremented2 = [row + 2 for row in crisis_rows]\n",
    "crisis_rows_incremented3 = [row + 3 for row in crisis_rows]\n",
    "crisis_rows_incremented4 = [row + 4 for row in crisis_rows]\n",
    "\n",
    "crisis_rows_df = pd.DataFrame(\n",
    "    {'crisis_rows': crisis_rows,\n",
    "     'crisis_rows_incremented1': crisis_rows_incremented1,\n",
    "     'crisis_rows_incremented2': crisis_rows_incremented2,\n",
    "     'crisis_rows_incremented3': crisis_rows_incremented3,\n",
    "     'crisis_rows_incremented4': crisis_rows_incremented4})\n",
    "\n",
    "rows_to_remove = pd.concat([crisis_rows_df[col] for col in crisis_rows_df.columns])\n",
    "\n",
    "# Sort the values in the combined column\n",
    "rows_to_remove = rows_to_remove.sort_values()\n",
    "# remove the rows from the data to account for crisis bias\n",
    "data = data.drop(data.index[rows_to_remove])\n",
    "# we have removed 435 from the dataset"
   ]
  },
  {
   "cell_type": "markdown",
   "id": "d95cab75-168d-4465-96e6-29de0f9142d3",
   "metadata": {},
   "source": [
    "Now we wil account for extraordinary events in history, and remove the years during which World War 1, the Great Depression, and World War 2. Then we will also create two new variables for our analysis. We create a measure of global credit creation, and a measure for the global slope of the yield curve."
   ]
  },
  {
   "cell_type": "code",
   "execution_count": 6,
   "id": "f8133911-fbfc-4c99-b509-83d377705f45",
   "metadata": {},
   "outputs": [],
   "source": [
    "# we will create a variable the measures the slope of the yield curve, subtracting short term interest rates from long term interest rates\n",
    "data['slope'] = (data['ltrate'] - data['stir'])\n",
    "# removing years for WW1, WW2, and Great Depression\n",
    "data_filtered = data[(data['year'] < 1914) | (data['year'] > 1918)]\n",
    "data = data_filtered[(data_filtered['year'] < 1933) | (data_filtered['year'] > 1945)]\n",
    "data['year']\n",
    "# now we will create our global slope and credit variables\n",
    "grouped = data.groupby('year')\n",
    "data = grouped.apply(lambda x: x.assign(\n",
    "    global_credit=x.loc[x['country'] != x['country'].iloc[0], 'tloans'].mean(),\n",
    "    global_slope=x.loc[x['country'] != x['country'].iloc[0], 'slope'].mean()\n",
    "))\n",
    "\n",
    "# Ungroup\n",
    "data= data.reset_index(drop=True)\n",
    "\n",
    "#making Debt Servicing Ratio Variable\n",
    "data['DSR'] = (data['tloans'] - (data['ltrate']/data['gdp']))"
   ]
  },
  {
   "cell_type": "markdown",
   "id": "a9316fac-0b51-4595-b5b3-4e4ef47c1427",
   "metadata": {},
   "source": [
    "To ensure stationarity of the time series data, we will augment most of our variables. CPI, Real Consumption per Capita, Housing prices, Money Supply, Credit Supply, Investment, and current account are all converted into growth rates ratios of GDP. We also change Stock prices, Debt/GDP ratio, and Debt Servicing Ratio are all changed into one year rates of change. "
   ]
  },
  {
   "cell_type": "code",
   "execution_count": 7,
   "id": "9e9464fc-833c-4b2f-8bad-fcab621f67af",
   "metadata": {},
   "outputs": [],
   "source": [
    "data_rate = data.groupby('country').apply(lambda group: \n",
    "    group.assign(\n",
    "        cpi_rate = (group['cpi'] - group['cpi'].shift(1)) / group['cpi'].shift(1),\n",
    "        rconsumption_rate = (group['rconsbarro'] - group['rconsbarro'].shift(1)) / group['rconsbarro'].shift(1),\n",
    "        housing_rate = (group['hpnom'] - group['hpnom'].shift(1)) / group['hpnom'].shift(1),\n",
    "        money_rate = (group['money'] - group['money'].shift(1)) / group['money'].shift(1),\n",
    "        DSR_rate = (group['DSR'] - group['DSR'].shift(1)/ group['DSR'].shift(1)),\n",
    "        credit_rate = (group['tloans'] / group['gdp'] - group['tloans'].shift(1) / group['gdp'].shift(1)),\n",
    "        global_credit_rate = (group['global_credit'] / group['gdp'] - group['global_credit'].shift(1) / group['gdp'].shift(1)),\n",
    "        ca_rate = (group['ca'] / group['gdp'] - group['ca'].shift(1) / group['gdp'].shift(1)),\n",
    "        investment_rate = (group['iy'] - group['iy'].shift(1)),\n",
    "        stock_rate =  (group['capital_tr'] - group['capital_tr'].shift(1)),\n",
    "        debtgdp_rate = (group['debtgdp'] - group['debtgdp'].shift(1))\n",
    "    )\n",
    ").reset_index(drop=True)\n"
   ]
  },
  {
   "cell_type": "code",
   "execution_count": 8,
   "id": "56019f31-8f4e-4e4a-a724-cd0022872479",
   "metadata": {},
   "outputs": [
    {
     "name": "stdout",
     "output_type": "stream",
     "text": [
      "Number of rows with missing values: 950\n"
     ]
    }
   ],
   "source": [
    "columns_to_keep = ['cpi_rate', 'rconsumption_rate', 'housing_rate', 'money_rate', 'DSR_rate', 'credit_rate', \n",
    "                   'global_credit_rate', 'slope', 'global_slope','ca_rate', 'investment_rate', 'stock_rate', 'debtgdp_rate',  'lev', 'noncore', 'indicator']\n",
    "data_subset = data_rate[columns_to_keep]\n",
    "\n",
    "missing_rows = data_subset[data_subset.isnull().any(axis=1)]\n",
    "\n",
    "# Print the number of rows with missing values\n",
    "print(\"Number of rows with missing values:\", len(missing_rows))"
   ]
  },
  {
   "cell_type": "code",
   "execution_count": 9,
   "id": "cf9dec70-4e02-44b3-bc70-1d080383e586",
   "metadata": {},
   "outputs": [],
   "source": [
    "# dropping all the rows with na's \n",
    "data_subset = data_subset.dropna()"
   ]
  },
  {
   "cell_type": "code",
   "execution_count": 66,
   "id": "4f1ce0fd-3703-44e9-a975-97fe5bcfc0c0",
   "metadata": {},
   "outputs": [
    {
     "data": {
      "text/html": [
       "<div>\n",
       "<style scoped>\n",
       "    .dataframe tbody tr th:only-of-type {\n",
       "        vertical-align: middle;\n",
       "    }\n",
       "\n",
       "    .dataframe tbody tr th {\n",
       "        vertical-align: top;\n",
       "    }\n",
       "\n",
       "    .dataframe thead th {\n",
       "        text-align: right;\n",
       "    }\n",
       "</style>\n",
       "<table border=\"1\" class=\"dataframe\">\n",
       "  <thead>\n",
       "    <tr style=\"text-align: right;\">\n",
       "      <th></th>\n",
       "      <th>cpi_rate</th>\n",
       "      <th>rconsumption_rate</th>\n",
       "      <th>housing_rate</th>\n",
       "      <th>money_rate</th>\n",
       "      <th>DSR_rate</th>\n",
       "      <th>credit_rate</th>\n",
       "      <th>global_credit_rate</th>\n",
       "      <th>slope</th>\n",
       "      <th>global_slope</th>\n",
       "      <th>ca_rate</th>\n",
       "      <th>investment_rate</th>\n",
       "      <th>stock_rate</th>\n",
       "      <th>debtgdp_rate</th>\n",
       "      <th>lev</th>\n",
       "      <th>noncore</th>\n",
       "    </tr>\n",
       "  </thead>\n",
       "  <tbody>\n",
       "    <tr>\n",
       "      <th>0</th>\n",
       "      <td>0.201881</td>\n",
       "      <td>-0.360813</td>\n",
       "      <td>-0.652080</td>\n",
       "      <td>-0.436655</td>\n",
       "      <td>0.147522</td>\n",
       "      <td>-0.654988</td>\n",
       "      <td>-0.015064</td>\n",
       "      <td>-0.194538</td>\n",
       "      <td>-0.804990</td>\n",
       "      <td>0.061955</td>\n",
       "      <td>1.408468</td>\n",
       "      <td>-0.384497</td>\n",
       "      <td>-0.120645</td>\n",
       "      <td>1.407139</td>\n",
       "      <td>-0.794071</td>\n",
       "    </tr>\n",
       "    <tr>\n",
       "      <th>1</th>\n",
       "      <td>-0.261516</td>\n",
       "      <td>-0.029319</td>\n",
       "      <td>-0.656442</td>\n",
       "      <td>-0.598620</td>\n",
       "      <td>0.147522</td>\n",
       "      <td>0.098263</td>\n",
       "      <td>-0.015064</td>\n",
       "      <td>-0.181635</td>\n",
       "      <td>-0.852109</td>\n",
       "      <td>-0.501147</td>\n",
       "      <td>0.201038</td>\n",
       "      <td>0.086456</td>\n",
       "      <td>0.399111</td>\n",
       "      <td>1.417348</td>\n",
       "      <td>-0.767489</td>\n",
       "    </tr>\n",
       "    <tr>\n",
       "      <th>2</th>\n",
       "      <td>-0.821518</td>\n",
       "      <td>0.663119</td>\n",
       "      <td>-0.750580</td>\n",
       "      <td>-0.546395</td>\n",
       "      <td>0.147522</td>\n",
       "      <td>-0.622619</td>\n",
       "      <td>-0.015064</td>\n",
       "      <td>-0.051417</td>\n",
       "      <td>-0.825305</td>\n",
       "      <td>2.247694</td>\n",
       "      <td>-2.502742</td>\n",
       "      <td>-0.207658</td>\n",
       "      <td>-0.341809</td>\n",
       "      <td>1.266318</td>\n",
       "      <td>-0.728409</td>\n",
       "    </tr>\n",
       "    <tr>\n",
       "      <th>3</th>\n",
       "      <td>-0.403177</td>\n",
       "      <td>-0.216924</td>\n",
       "      <td>-0.575168</td>\n",
       "      <td>-0.279722</td>\n",
       "      <td>0.147522</td>\n",
       "      <td>-0.318556</td>\n",
       "      <td>-0.015064</td>\n",
       "      <td>-0.174400</td>\n",
       "      <td>-1.372852</td>\n",
       "      <td>2.025113</td>\n",
       "      <td>-0.598677</td>\n",
       "      <td>0.422199</td>\n",
       "      <td>0.105125</td>\n",
       "      <td>1.104951</td>\n",
       "      <td>-0.698360</td>\n",
       "    </tr>\n",
       "    <tr>\n",
       "      <th>4</th>\n",
       "      <td>-0.256875</td>\n",
       "      <td>-1.409564</td>\n",
       "      <td>-0.103857</td>\n",
       "      <td>-0.104969</td>\n",
       "      <td>0.147522</td>\n",
       "      <td>-0.586132</td>\n",
       "      <td>-0.015064</td>\n",
       "      <td>-0.343230</td>\n",
       "      <td>-2.197101</td>\n",
       "      <td>0.451962</td>\n",
       "      <td>0.278050</td>\n",
       "      <td>0.299199</td>\n",
       "      <td>-0.368536</td>\n",
       "      <td>0.988934</td>\n",
       "      <td>-0.706451</td>\n",
       "    </tr>\n",
       "  </tbody>\n",
       "</table>\n",
       "</div>"
      ],
      "text/plain": [
       "   cpi_rate  rconsumption_rate  housing_rate  money_rate  DSR_rate  \\\n",
       "0  0.201881          -0.360813     -0.652080   -0.436655  0.147522   \n",
       "1 -0.261516          -0.029319     -0.656442   -0.598620  0.147522   \n",
       "2 -0.821518           0.663119     -0.750580   -0.546395  0.147522   \n",
       "3 -0.403177          -0.216924     -0.575168   -0.279722  0.147522   \n",
       "4 -0.256875          -1.409564     -0.103857   -0.104969  0.147522   \n",
       "\n",
       "   credit_rate  global_credit_rate     slope  global_slope   ca_rate  \\\n",
       "0    -0.654988           -0.015064 -0.194538     -0.804990  0.061955   \n",
       "1     0.098263           -0.015064 -0.181635     -0.852109 -0.501147   \n",
       "2    -0.622619           -0.015064 -0.051417     -0.825305  2.247694   \n",
       "3    -0.318556           -0.015064 -0.174400     -1.372852  2.025113   \n",
       "4    -0.586132           -0.015064 -0.343230     -2.197101  0.451962   \n",
       "\n",
       "   investment_rate  stock_rate  debtgdp_rate       lev   noncore  \n",
       "0         1.408468   -0.384497     -0.120645  1.407139 -0.794071  \n",
       "1         0.201038    0.086456      0.399111  1.417348 -0.767489  \n",
       "2        -2.502742   -0.207658     -0.341809  1.266318 -0.728409  \n",
       "3        -0.598677    0.422199      0.105125  1.104951 -0.698360  \n",
       "4         0.278050    0.299199     -0.368536  0.988934 -0.706451  "
      ]
     },
     "execution_count": 66,
     "metadata": {},
     "output_type": "execute_result"
    }
   ],
   "source": [
    "# standardizing the data\n",
    "X = data_subset.drop(columns=['indicator'])\n",
    "scaler = StandardScaler()\n",
    "X_standardized = scaler.fit_transform(X)\n",
    "\n",
    "# Convert the standardized array back to a DataFrame\n",
    "X_standardized = pd.DataFrame(X_standardized, columns=X.columns)\n",
    "y = data_subset['indicator']\n",
    "X_standardized.head()"
   ]
  },
  {
   "cell_type": "code",
   "execution_count": 67,
   "id": "7ad2bc64",
   "metadata": {},
   "outputs": [
    {
     "data": {
      "text/html": [
       "<div>\n",
       "<style scoped>\n",
       "    .dataframe tbody tr th:only-of-type {\n",
       "        vertical-align: middle;\n",
       "    }\n",
       "\n",
       "    .dataframe tbody tr th {\n",
       "        vertical-align: top;\n",
       "    }\n",
       "\n",
       "    .dataframe thead th {\n",
       "        text-align: right;\n",
       "    }\n",
       "</style>\n",
       "<table border=\"1\" class=\"dataframe\">\n",
       "  <thead>\n",
       "    <tr style=\"text-align: right;\">\n",
       "      <th></th>\n",
       "      <th>CPI Rate</th>\n",
       "      <th>Consumption Rate</th>\n",
       "      <th>Housing Rate</th>\n",
       "      <th>Money Rate</th>\n",
       "      <th>DSR Rate</th>\n",
       "      <th>Credit Rate</th>\n",
       "      <th>Global Credit Rate</th>\n",
       "      <th>Slope</th>\n",
       "      <th>Global Slope</th>\n",
       "      <th>CA Rate</th>\n",
       "      <th>Investment Rate</th>\n",
       "      <th>Stock Rate</th>\n",
       "      <th>Debt/GDP Rate</th>\n",
       "      <th>Leverage</th>\n",
       "      <th>Noncore</th>\n",
       "    </tr>\n",
       "  </thead>\n",
       "  <tbody>\n",
       "    <tr>\n",
       "      <th>0</th>\n",
       "      <td>0.201881</td>\n",
       "      <td>-0.360813</td>\n",
       "      <td>-0.652080</td>\n",
       "      <td>-0.436655</td>\n",
       "      <td>0.147522</td>\n",
       "      <td>-0.654988</td>\n",
       "      <td>-0.015064</td>\n",
       "      <td>-0.194538</td>\n",
       "      <td>-0.804990</td>\n",
       "      <td>0.061955</td>\n",
       "      <td>1.408468</td>\n",
       "      <td>-0.384497</td>\n",
       "      <td>-0.120645</td>\n",
       "      <td>1.407139</td>\n",
       "      <td>-0.794071</td>\n",
       "    </tr>\n",
       "    <tr>\n",
       "      <th>1</th>\n",
       "      <td>-0.261516</td>\n",
       "      <td>-0.029319</td>\n",
       "      <td>-0.656442</td>\n",
       "      <td>-0.598620</td>\n",
       "      <td>0.147522</td>\n",
       "      <td>0.098263</td>\n",
       "      <td>-0.015064</td>\n",
       "      <td>-0.181635</td>\n",
       "      <td>-0.852109</td>\n",
       "      <td>-0.501147</td>\n",
       "      <td>0.201038</td>\n",
       "      <td>0.086456</td>\n",
       "      <td>0.399111</td>\n",
       "      <td>1.417348</td>\n",
       "      <td>-0.767489</td>\n",
       "    </tr>\n",
       "    <tr>\n",
       "      <th>2</th>\n",
       "      <td>-0.821518</td>\n",
       "      <td>0.663119</td>\n",
       "      <td>-0.750580</td>\n",
       "      <td>-0.546395</td>\n",
       "      <td>0.147522</td>\n",
       "      <td>-0.622619</td>\n",
       "      <td>-0.015064</td>\n",
       "      <td>-0.051417</td>\n",
       "      <td>-0.825305</td>\n",
       "      <td>2.247694</td>\n",
       "      <td>-2.502742</td>\n",
       "      <td>-0.207658</td>\n",
       "      <td>-0.341809</td>\n",
       "      <td>1.266318</td>\n",
       "      <td>-0.728409</td>\n",
       "    </tr>\n",
       "    <tr>\n",
       "      <th>3</th>\n",
       "      <td>-0.403177</td>\n",
       "      <td>-0.216924</td>\n",
       "      <td>-0.575168</td>\n",
       "      <td>-0.279722</td>\n",
       "      <td>0.147522</td>\n",
       "      <td>-0.318556</td>\n",
       "      <td>-0.015064</td>\n",
       "      <td>-0.174400</td>\n",
       "      <td>-1.372852</td>\n",
       "      <td>2.025113</td>\n",
       "      <td>-0.598677</td>\n",
       "      <td>0.422199</td>\n",
       "      <td>0.105125</td>\n",
       "      <td>1.104951</td>\n",
       "      <td>-0.698360</td>\n",
       "    </tr>\n",
       "    <tr>\n",
       "      <th>4</th>\n",
       "      <td>-0.256875</td>\n",
       "      <td>-1.409564</td>\n",
       "      <td>-0.103857</td>\n",
       "      <td>-0.104969</td>\n",
       "      <td>0.147522</td>\n",
       "      <td>-0.586132</td>\n",
       "      <td>-0.015064</td>\n",
       "      <td>-0.343230</td>\n",
       "      <td>-2.197101</td>\n",
       "      <td>0.451962</td>\n",
       "      <td>0.278050</td>\n",
       "      <td>0.299199</td>\n",
       "      <td>-0.368536</td>\n",
       "      <td>0.988934</td>\n",
       "      <td>-0.706451</td>\n",
       "    </tr>\n",
       "  </tbody>\n",
       "</table>\n",
       "</div>"
      ],
      "text/plain": [
       "   CPI Rate  Consumption Rate  Housing Rate  Money Rate  DSR Rate  \\\n",
       "0  0.201881         -0.360813     -0.652080   -0.436655  0.147522   \n",
       "1 -0.261516         -0.029319     -0.656442   -0.598620  0.147522   \n",
       "2 -0.821518          0.663119     -0.750580   -0.546395  0.147522   \n",
       "3 -0.403177         -0.216924     -0.575168   -0.279722  0.147522   \n",
       "4 -0.256875         -1.409564     -0.103857   -0.104969  0.147522   \n",
       "\n",
       "   Credit Rate  Global Credit Rate     Slope  Global Slope   CA Rate  \\\n",
       "0    -0.654988           -0.015064 -0.194538     -0.804990  0.061955   \n",
       "1     0.098263           -0.015064 -0.181635     -0.852109 -0.501147   \n",
       "2    -0.622619           -0.015064 -0.051417     -0.825305  2.247694   \n",
       "3    -0.318556           -0.015064 -0.174400     -1.372852  2.025113   \n",
       "4    -0.586132           -0.015064 -0.343230     -2.197101  0.451962   \n",
       "\n",
       "   Investment Rate  Stock Rate  Debt/GDP Rate  Leverage   Noncore  \n",
       "0         1.408468   -0.384497      -0.120645  1.407139 -0.794071  \n",
       "1         0.201038    0.086456       0.399111  1.417348 -0.767489  \n",
       "2        -2.502742   -0.207658      -0.341809  1.266318 -0.728409  \n",
       "3        -0.598677    0.422199       0.105125  1.104951 -0.698360  \n",
       "4         0.278050    0.299199      -0.368536  0.988934 -0.706451  "
      ]
     },
     "execution_count": 67,
     "metadata": {},
     "output_type": "execute_result"
    }
   ],
   "source": [
    "X_standardized = X_standardized.rename(columns={'cpi_rate' : 'CPI Rate', 'rconsumption_rate' : 'Consumption Rate', 'housing_rate' : 'Housing Rate', 'money_rate' : 'Money Rate', 'DSR_rate' : 'DSR Rate',\n",
    "                      'credit_rate' : 'Credit Rate', 'ca_rate' : 'CA Rate', 'investment_rate' : 'Investment Rate', 'stock_rate' : 'Stock Rate', 'debtgdp_rate' : 'Debt/GDP Rate',\n",
    "                      'slope' : 'Slope', 'global_slope': 'Global Slope', 'global_credit_rate' : 'Global Credit Rate','lev' : 'Leverage', 'noncore' : 'Noncore'})\n",
    "X_standardized.head()"
   ]
  },
  {
   "cell_type": "code",
   "execution_count": 11,
   "id": "a3908efe-f4dd-4379-a020-77fde8c9121f",
   "metadata": {},
   "outputs": [],
   "source": [
    "# remova nas\n",
    "#normalize data\n",
    "# explore data\n",
    "# make logistic model "
   ]
  },
  {
   "cell_type": "code",
   "execution_count": 68,
   "id": "ecad9bb0-072b-4955-998b-d93726a6fd5a",
   "metadata": {},
   "outputs": [
    {
     "data": {
      "image/png": "[encoded data removed]",
      "text/plain": [
       "<Figure size 720x576 with 2 Axes>"
      ]
     },
     "metadata": {
      "needs_background": "light"
     },
     "output_type": "display_data"
    }
   ],
   "source": [
    "selected_variables = ['cpi_rate', 'rconsumption_rate', 'housing_rate', 'money_rate', 'DSR_rate',\n",
    "                      'credit_rate', 'ca_rate', 'investment_rate', 'stock_rate', 'debtgdp_rate',\n",
    "                      'slope', 'global_slope', 'global_credit_rate','lev', 'noncore']\n",
    "numeric_data = X[selected_variables]\n",
    "\n",
    "# Calculate correlation matrix\n",
    "correlation_matrix = X_standardized.corr()\n",
    "\n",
    "# Create Seaborn heatmap\n",
    "plt.figure(figsize=(10, 8))\n",
    "sns.heatmap(correlation_matrix, annot=True, cmap='coolwarm', fmt=\".2f\")\n",
    "plt.title('Correlation Plot (Selected Variables)')\n",
    "plt.show()"
   ]
  },
  {
   "cell_type": "markdown",
   "id": "5156eeb2",
   "metadata": {},
   "source": [
    "While most variables are uncorrelated with one another, a few variables do have moderately strong relationships with our other explanatory variables. The CPI rate and the money supply growth rate have a very strong correlation (0.79). Noticably, the global and domestic slope variables have a correlation around 0.5. Our global and domestic variables appear to measure different things and are not highly correlated alternatives."
   ]
  },
  {
   "cell_type": "markdown",
   "id": "2d436bd0",
   "metadata": {},
   "source": [
    "# Basic Logistic Model\n",
    "\n",
    "To begin the analysis, we will construct a logistic model with all the variables included. This will serve as a baseline to reference for model performance. For analyze out-of-sample predictive performance, we will use a k-fold-crossfold validation method. Given the limited number of financial crises, splitting the data into a training and testing set would reduce predictive capabilities of the models. Previous research has shown that the two methods will perform comparably. We will use multiple methods to compare model performance. These methods include examining the *Receiver Operating Characteristic* space, Recall rate, and Shapley Values. These methods will be discussed later on.\n"
   ]
  },
  {
   "cell_type": "code",
   "execution_count": 88,
   "id": "e10e4ec2-c79e-4f83-87bd-21e792f5d98b",
   "metadata": {
    "scrolled": true
   },
   "outputs": [
    {
     "name": "stdout",
     "output_type": "stream",
     "text": [
      "Optimization terminated successfully.\n",
      "         Current function value: 0.210866\n",
      "         Iterations 9\n"
     ]
    },
    {
     "data": {
      "text/plain": [
       "CPI Rate             -0.577392\n",
       "Consumption Rate     -0.499927\n",
       "Housing Rate          0.320242\n",
       "Money Rate           -0.237310\n",
       "DSR Rate              0.024114\n",
       "Credit Rate           0.573237\n",
       "Global Credit Rate    0.121142\n",
       "Slope                -0.557581\n",
       "Global Slope         -0.541701\n",
       "CA Rate               0.024734\n",
       "Investment Rate       0.262959\n",
       "Stock Rate           -0.307963\n",
       "Debt/GDP Rate        -0.302594\n",
       "Leverage              0.247515\n",
       "Noncore               0.546485\n",
       "intercept            -3.361010\n",
       "dtype: float64"
      ]
     },
     "execution_count": 88,
     "metadata": {},
     "output_type": "execute_result"
    }
   ],
   "source": [
    "X_standardized['intercept']=1.0\n",
    "#y #1057\n",
    "#X_standardized #1057\n",
    "y = list(y)\n",
    "logit = sm.Logit(y, X_standardized)\n",
    "result=logit.fit()\n",
    "\n",
    "\n",
    "result.summary()\n",
    "coeff = result.params\n",
    "coeff"
   ]
  },
  {
   "cell_type": "code",
   "execution_count": 128,
   "id": "b81f3c1d",
   "metadata": {},
   "outputs": [
    {
     "data": {
      "image/png": "[encoded data removed]",
      "text/plain": [
       "<Figure size 720x432 with 1 Axes>"
      ]
     },
     "metadata": {
      "needs_background": "light"
     },
     "output_type": "display_data"
    }
   ],
   "source": [
    "coefficients = result.params\n",
    "coefficients = coefficients.drop(['intercept'])\n",
    "coef_names = coefficients.index\n",
    "\n",
    "sorted_coefficients = sorted(zip(coefficients, coef_names), reverse=True)\n",
    "sorted_coefficients, sorted_coef_names = zip(*sorted_coefficients)\n",
    "\n",
    "\n",
    "plt.figure(figsize=(10, 6))\n",
    "plt.barh(sorted_coef_names, sorted_coefficients)\n",
    "plt.xlabel('Variable')\n",
    "plt.ylabel('Coefficient')\n",
    "plt.title('Coefficients Plot')\n",
    "plt.xticks(rotation=90)\n",
    "plt.show()\n"
   ]
  },
  {
   "cell_type": "code",
   "execution_count": 86,
   "id": "8dc40661",
   "metadata": {},
   "outputs": [
    {
     "data": {
      "text/plain": [
       "<AxesSubplot:ylabel='Feature'>"
      ]
     },
     "execution_count": 86,
     "metadata": {},
     "output_type": "execute_result"
    },
    {
     "data": {
      "image/png": "[encoded data removed]",
      "text/plain": [
       "<Figure size 720x432 with 1 Axes>"
      ]
     },
     "metadata": {
      "needs_background": "light"
     },
     "output_type": "display_data"
    }
   ],
   "source": [
    "from sklearn.linear_model import LogisticRegression\n",
    "from sklearn.preprocessing import StandardScaler\n",
    "from sklearn.inspection import permutation_importance\n",
    "\n",
    "\n",
    "model = LogisticRegression()\n",
    "model.fit(X_standardized, y)\n",
    "\n",
    "\n",
    "#feature_importance = pd.DataFrame({'Feature': X_standardized.columns, 'Importance':(coefficients)})\n",
    "#feature_importance = feature_importance.sort_values('Importance', ascending=True)\n",
    "#feature_importance.plot(x='Feature', y='Importance', kind='barh', figsize=(10, 6))\n"
   ]
  },
  {
   "cell_type": "markdown",
   "id": "e0f75e4f",
   "metadata": {},
   "source": [
    "This chart illusrtates the most important feautures in our logistic model. As seen above, the most important features are Credit Rate, Global and Domestic slope of the yield curve and Noncore funding.  "
   ]
  },
  {
   "cell_type": "markdown",
   "id": "7c40a98c-b368-4b3f-859b-a5b30a8a202b",
   "metadata": {},
   "source": [
    "# ML technique - Lasso  "
   ]
  },
  {
   "cell_type": "code",
   "execution_count": 169,
   "id": "f087a796-bf59-488b-8012-3ca994280d7a",
   "metadata": {},
   "outputs": [
    {
     "name": "stdout",
     "output_type": "stream",
     "text": [
      "0.001\n"
     ]
    },
    {
     "data": {
      "text/plain": [
       "<BarContainer object of 15 artists>"
      ]
     },
     "execution_count": 169,
     "metadata": {},
     "output_type": "execute_result"
    },
    {
     "data": {
      "image/png": "[encoded data removed]",
      "text/plain": [
       "<Figure size 720x432 with 1 Axes>"
      ]
     },
     "metadata": {
      "needs_background": "light"
     },
     "output_type": "display_data"
    }
   ],
   "source": [
    "from sklearn.linear_model import LinearRegression, Lasso\n",
    "# model evaluation\n",
    "from sklearn.metrics import r2_score, mean_squared_error\n",
    "from sklearn.model_selection import GridSearchCV\n",
    "\n",
    "lasso = Lasso()\n",
    "param_grid = {'alpha' :[0.001, 0.01, 0.1, 1, 10]}\n",
    "grid_search = GridSearchCV(estimator = lasso, param_grid=param_grid, cv=5)\n",
    "grid_search.fit(X_standardized, y)\n",
    "\n",
    "best_alpha = grid_search.best_params_['alpha']\n",
    "print(best_alpha)\n",
    "lasso_best = Lasso(alpha=best_alpha)\n",
    "lasso_best.fit(X_standardized, y)\n",
    "\n",
    "\n",
    "coeff_lasso = lasso_best.coef_\n",
    "columns = ['Lasso_Coefficient', 'Feature']\n",
    "new_df = pd.DataFrame(X_standardized.columns,coeff_lasso)\n",
    "\n",
    "\n",
    "\n",
    "\n",
    "\n",
    "data = {'coeff_lasso': coeff_lasso, 'column_names': X_standardized.columns}\n",
    "\n",
    "# Create DataFrame\n",
    "df = pd.DataFrame(data)\n",
    "\n",
    "df = df.drop(df.index[-1])\n",
    "\n",
    "df = df.sort_values(by = 'coeff_lasso', ascending = False)\n",
    "\n",
    "#new_df.drop(new_df.index[-1], inplace = True)\n",
    "\n",
    "\n",
    "#columns = ['Lasso_Coefficient', 'Feature']\n",
    "#new_df = pd.DataFrame(new_df, columns = columns)\n",
    "\n",
    "plt.figure(figsize = (10,6))\n",
    "plt.barh(df['column_names'], df['coeff_lasso'])\n",
    "#new_df\n",
    "\n",
    "#feature_importance_Lasso = lasso_best.feature_importances_\n",
    "\n",
    "#feature_importance = pd.DataFrame({'Feature': X_standardized.columns, 'Importance': np.abs(coefficients)})\n",
    "#feature_importance = feature_importance.sort_values('Importance', ascending=True)\n",
    "#feature_importance.plot(x='Feature', y='Importance', kind='barh', figsize=(10, 6))"
   ]
  },
  {
   "cell_type": "code",
   "execution_count": null,
   "id": "6be79c72-e09f-4591-85af-162916c6e9ad",
   "metadata": {},
   "outputs": [],
   "source": []
  },
  {
   "cell_type": "markdown",
   "id": "1e2b45c4-1c2a-444b-bf41-0e8207529510",
   "metadata": {},
   "source": [
    "# ML technique two etc"
   ]
  },
  {
   "cell_type": "code",
   "execution_count": null,
   "id": "644f8aa3-6a96-4a25-8825-e2f6c504f13f",
   "metadata": {},
   "outputs": [],
   "source": []
  },
  {
   "cell_type": "code",
   "execution_count": null,
   "id": "f506b22c-641b-4664-8ad8-e89100091497",
   "metadata": {},
   "outputs": [],
   "source": []
  },
  {
   "cell_type": "markdown",
   "id": "24f38f4b-bf77-4ee7-9329-4584549b8718",
   "metadata": {},
   "source": [
    "# showcase prediction capabilities and compare"
   ]
  },
  {
   "cell_type": "code",
   "execution_count": null,
   "id": "18b03863-819d-4de6-8b2b-f20348fbb530",
   "metadata": {},
   "outputs": [],
   "source": []
  }
 ],
 "metadata": {
  "kernelspec": {
   "display_name": "Python 3",
   "language": "python",
   "name": "python3"
  },
  "language_info": {
   "codemirror_mode": {
    "name": "ipython",
    "version": 3
   },
   "file_extension": ".py",
   "mimetype": "text/x-python",
   "name": "python",
   "nbconvert_exporter": "python",
   "pygments_lexer": "ipython3",
   "version": "3.8.8"
  }
 },
 "nbformat": 4,
 "nbformat_minor": 5
}
